{
  "nbformat": 4,
  "nbformat_minor": 0,
  "metadata": {
    "colab": {
      "name": "ML_Project_Final.ipynb",
      "provenance": [],
      "collapsed_sections": []
    },
    "kernelspec": {
      "name": "python3",
      "display_name": "Python 3"
    }
  },
  "cells": [
    {
      "metadata": {
        "id": "WUaZfmb9gId7",
        "outputId": "7df2922a-82f1-4d9c-dd5d-691125ffc6c6",
        "colab": {
          "base_uri": "https://localhost:8080/"
        }
      },
      "cell_type": "code",
      "source": [
        "# Import necessary libraries\n",
        "import numpy as np\n",
        "import pandas as pd\n",
        "from matplotlib import pyplot as plt\n",
        "import math\n",
        "import string\n",
        "import requests\n",
        "from bs4 import BeautifulSoup\n",
        "import re\n",
        "\n",
        "import os\n",
        "import sys\n",
        "from IPython.display import display, HTML\n",
        "import urllib\n",
        "import gzip\n",
        "\n",
        "import nltk\n",
        "from nltk import tokenize\n",
        "nltk.download('punkt')\n",
        "from nltk.corpus import stopwords\n",
        "nltk.download('stopwords')\n",
        "from nltk.stem import WordNetLemmatizer\n",
        "nltk.download('wordnet')\n",
        "\n",
        "import pip\n",
        "import theano\n",
        "import keras\n",
        "from keras.preprocessing.sequence import pad_sequences\n",
        "from keras.preprocessing.text import Tokenizer,  text_to_word_sequence\n",
        "from keras import initializers as initializers, regularizers, constraints\n",
        "from keras.layers import Dense, Dropout, Activation, Flatten, Input\n",
        "from keras.layers import Convolution2D, MaxPooling2D, Embedding, Dropout, LSTM, GRU, Bidirectional, TimeDistributed\n",
        "from keras.models import Sequential, Model, load_model\n",
        "from keras import backend as K\n",
        "from tensorflow.keras.layers import Layer, InputSpec\n",
        "from keras.utils.vis_utils import plot_model\n",
        "from keras.utils import  np_utils\n",
        "from keras.utils.np_utils import to_categorical"
      ],
      "execution_count": null,
      "outputs": [
        {
          "output_type": "stream",
          "name": "stdout",
          "text": [
            "[nltk_data] Downloading package punkt to /root/nltk_data...\n",
            "[nltk_data]   Unzipping tokenizers/punkt.zip.\n",
            "[nltk_data] Downloading package stopwords to /root/nltk_data...\n",
            "[nltk_data]   Unzipping corpora/stopwords.zip.\n",
            "[nltk_data] Downloading package wordnet to /root/nltk_data...\n",
            "[nltk_data]   Unzipping corpora/wordnet.zip.\n"
          ]
        }
      ]
    },
    {
      "metadata": {
        "id": "YfW5F6D6yaoE",
        "outputId": "eaf410f1-e277-49af-ae71-8178a2e39b39",
        "colab": {
          "base_uri": "https://localhost:8080/"
        }
      },
      "cell_type": "code",
      "source": [
        "from google.colab import drive\n",
        "drive.mount('gdrive')"
      ],
      "execution_count": null,
      "outputs": [
        {
          "output_type": "stream",
          "name": "stdout",
          "text": [
            "Mounted at gdrive\n"
          ]
        }
      ]
    },
    {
      "metadata": {
        "id": "Zwj57XIwgZcI"
      },
      "cell_type": "markdown",
      "source": [
        "# Helper Functions"
      ]
    },
    {
      "metadata": {
        "id": "tmMwAgdNgUrB"
      },
      "cell_type": "code",
      "source": [
        "def cleanString(review,stopWords):\n",
        "    lemmatizer = WordNetLemmatizer()\n",
        "    returnString = \"\"\n",
        "    sentence_token = tokenize.sent_tokenize(review)\n",
        "    idx_list = []\n",
        "    for j in range(len(sentence_token)):\n",
        "        single_sentence = tokenize.word_tokenize(sentence_token[j])\n",
        "        sentences_filtered = [(idx,lemmatizer.lemmatize(w.lower())) for idx,w in enumerate(single_sentence) \n",
        "                              if w.lower() not in stopWords and w.isalnum()]\n",
        "        idx_list.append([x[0] for x in sentences_filtered])\n",
        "        word_list = [x[1] for x in sentences_filtered]\n",
        "        returnString = returnString + ' '.join(word_list) + ' . '\n",
        "    \n",
        "    return returnString, idx_list"
      ],
      "execution_count": null,
      "outputs": []
    },
    {
      "metadata": {
        "id": "aXf3t1d0gUve"
      },
      "cell_type": "code",
      "source": [
        "def split_df(dataframe, column_name, training_split = 0.8, validation_split = 0.1, test_split = 0.1):\n",
        "\n",
        "    if training_split + validation_split + test_split != 1.0:\n",
        "        raise ValueError('Split paramter sum should be 1.0')\n",
        "        \n",
        "    total = len(dataframe.index)\n",
        " \n",
        "    train = dataframe.reset_index().groupby(column_name).apply(lambda x: x.sample(frac=training_split))\\\n",
        "    .reset_index(drop=True).set_index('index')\n",
        "    train = train.sample(frac=1)\n",
        "    temp_df = dataframe.drop(train.index)\n",
        "    validation = temp_df.reset_index().groupby(column_name)\\\n",
        "    .apply(lambda x: x.sample(frac=validation_split/(test_split+validation_split)))\\\n",
        "           .reset_index(drop=True).set_index('index')\n",
        "    validation = validation.sample(frac=1)\n",
        "    test = temp_df.drop(validation.index)\n",
        "    test = test.sample(frac=1)\n",
        "    \n",
        "    print('Total: ', len(dataframe))\n",
        "    print('Training: ', len(train), ', Percentage: ', len(train)/len(dataframe))\n",
        "    print('Validation: ', len(validation), ', Percentage: ', len(validation)/len(dataframe))\n",
        "    print('Test:', len(test), ', Percentage: ', len(test)/len(dataframe))\n",
        "\n",
        "    return train, validation, test"
      ],
      "execution_count": null,
      "outputs": []
    },
    {
      "metadata": {
        "id": "CVWSB2t-gUy3"
      },
      "cell_type": "code",
      "source": [
        "def wordToSeq(text,word_index,max_words,max_features):\n",
        "    # sentences = tokenize.sent_tokenize(text)\n",
        "    data = np.zeros((max_words), dtype='int32')\n",
        "    # for j, sent in enumerate(sentences):\n",
        "    #     if j< max_sentences:\n",
        "    wordTokens = tokenize.word_tokenize(text.rstrip('.'))\n",
        "    wordTokens = [w for w in wordTokens]\n",
        "    k=0\n",
        "    for _, word in enumerate(wordTokens):\n",
        "        try:\n",
        "            if k<max_words and word_index[word]<max_features:\n",
        "                data[k] = word_index[word]\n",
        "                k=k+1\n",
        "        except:\n",
        "            pass\n",
        "    # print(data)\n",
        "    return data"
      ],
      "execution_count": null,
      "outputs": []
    },
    {
      "metadata": {
        "id": "ZTvGwt6QgU4_"
      },
      "cell_type": "code",
      "source": [
        "def to_categorical(series,class_dict):\n",
        "    n_classes = len(class_dict)\n",
        "    new_dict = {}\n",
        "    for key,value in class_dict.items():\n",
        "        cat_list = [0] * n_classes\n",
        "        cat_list[key] = 1\n",
        "        new_dict[key] = cat_list\n",
        "    y_cat = []\n",
        "    for key,value in series.iteritems():\n",
        "        y_cat.append(new_dict[value])\n",
        "    return np.array(y_cat)"
      ],
      "execution_count": null,
      "outputs": []
    },
    {
      "metadata": {
        "id": "m1XGIMYKg-OS"
      },
      "cell_type": "markdown",
      "source": [
        "# Attention layer"
      ]
    },
    {
      "metadata": {
        "id": "I6-w_wuXgVAE"
      },
      "cell_type": "code",
      "source": [
        "class AttentionLayer(Layer):\n",
        "\n",
        "    def __init__(self,attention_dim=100,return_coefficients=False,**kwargs):\n",
        "        # Initializer \n",
        "        self.supports_masking = True\n",
        "        self.return_coefficients = return_coefficients\n",
        "        self.init = initializers.get('glorot_uniform') # initializes values with uniform distribution\n",
        "        self.attention_dim = attention_dim\n",
        "        super(AttentionLayer, self).__init__(**kwargs)\n",
        "\n",
        "    def get_config(self):\n",
        "        config = super().get_config()\n",
        "        config.update({\n",
        "            # \"supports_masking\": self.supports_masking,\n",
        "            \"return_coefficients\": self.return_coefficients,\n",
        "            # \"init\" : self.init,\n",
        "            \"attention_dim\" :self.attention_dim})\n",
        "        return config\n",
        "        \n",
        "    def build(self, input_shape):\n",
        "        # Builds all weights\n",
        "        # W = Weight matrix, b = bias vector, u = context vector\n",
        "        assert len(input_shape) == 3\n",
        "        self.W = K.variable(self.init((input_shape[-1], self.attention_dim)),name='W')\n",
        "        self.b = K.variable(self.init((self.attention_dim, )),name='b')\n",
        "        self.u = K.variable(self.init((self.attention_dim, 1)),name='u')\n",
        "        self._trainable_weights = [self.W, self.b, self.u]\n",
        "\n",
        "        super(AttentionLayer, self).build(input_shape)\n",
        "\n",
        "    def compute_mask(self, input, input_mask=None):\n",
        "        return None\n",
        "\n",
        "    def call(self, hit, mask=None):\n",
        "        # Here, the actual calculation is done\n",
        "        uit = K.bias_add(K.dot(hit, self.W),self.b)\n",
        "        uit = K.tanh(uit)\n",
        "        \n",
        "        ait = K.dot(uit, self.u)\n",
        "        ait = K.squeeze(ait, -1)\n",
        "        ait = K.exp(ait)\n",
        "        \n",
        "        if mask is not None:\n",
        "            ait *= K.cast(mask, K.floatx())\n",
        "\n",
        "        ait /= K.cast(K.sum(ait, axis=1, keepdims=True) + K.epsilon(), K.floatx())\n",
        "        ait = K.expand_dims(ait)\n",
        "        weighted_input = hit * ait\n",
        "        \n",
        "        if self.return_coefficients:\n",
        "            return [K.sum(weighted_input, axis=1), ait]\n",
        "        else:\n",
        "            return K.sum(weighted_input, axis=1)\n",
        "\n",
        "    def compute_output_shape(self, input_shape):\n",
        "        if self.return_coefficients:\n",
        "            return [(input_shape[0], input_shape[-1]), (input_shape[0], input_shape[-1], 1)]\n",
        "        else:\n",
        "            return input_shape[0], input_shape[-1]"
      ],
      "execution_count": null,
      "outputs": []
    },
    {
      "metadata": {
        "id": "riBDmUnBhILe"
      },
      "cell_type": "markdown",
      "source": [
        "# Load Data"
      ]
    },
    {
      "metadata": {
        "id": "pumktA96zJ4p"
      },
      "cell_type": "code",
      "source": [
        "# data_df = pd.read_excel(\"/content/drive/My Drive/Colab Notebooks/data_consolidated.xlsx\")\n",
        "data_df = pd.read_csv(\"/content/gdrive/MyDrive/College/Semester5/ML/Project/twitter15/twitter15.csv\")\n",
        "# data_df = pd.read_csv(\"/content/gdrive/MyDrive/College/Semester5/NLP/project/train.csv\")"
      ],
      "execution_count": null,
      "outputs": []
    },
    {
      "cell_type": "code",
      "source": [
        "data_df.shape"
      ],
      "metadata": {
        "colab": {
          "base_uri": "https://localhost:8080/"
        },
        "id": "JFCFNogZUDl0",
        "outputId": "48f91592-cf37-43b0-ef21-b82247a69378"
      },
      "execution_count": null,
      "outputs": [
        {
          "output_type": "execute_result",
          "data": {
            "text/plain": [
              "(741, 4)"
            ]
          },
          "metadata": {},
          "execution_count": 9
        }
      ]
    },
    {
      "cell_type": "code",
      "source": [
        "data_df = data_df.dropna()"
      ],
      "metadata": {
        "id": "J_PkuMpHvSUZ"
      },
      "execution_count": null,
      "outputs": []
    },
    {
      "cell_type": "code",
      "source": [
        "data_df = data_df[['source_tweet','label']].rename(columns = {'source_tweet':'Text', 'label':'Category'})\n",
        "# data_df = data_df[['text','label']].rename(columns = {'text':'Text', 'label':'Category'})"
      ],
      "metadata": {
        "id": "0kMLySA46gTY"
      },
      "execution_count": null,
      "outputs": []
    },
    {
      "metadata": {
        "id": "aLg9ok_V5poY"
      },
      "cell_type": "code",
      "source": [
        "data_df.to_excel(\"/content/gdrive/MyDrive/College/Semester5/ML/Project/twitter15/twitter15.xlsx\", index=False)"
      ],
      "execution_count": null,
      "outputs": []
    },
    {
      "metadata": {
        "id": "QJcoBcWJhXQZ"
      },
      "cell_type": "markdown",
      "source": [
        "# Parameters"
      ]
    },
    {
      "metadata": {
        "id": "DIMHviUDhQi1"
      },
      "cell_type": "code",
      "source": [
        "MAX_FEATURES = 3000 # maximum number of unique words that should be included in the tokenized word index\n",
        "# MAX_SENTENCE_NUM = 10 # maximum number of sentences in one document\n",
        "MAX_WORD_NUM = 40   # maximum number of words in each sentence\n",
        "EMBED_SIZE = 100      # vector size of word embedding"
      ],
      "execution_count": null,
      "outputs": []
    },
    {
      "metadata": {
        "id": "pPTxoGI9hbWf"
      },
      "cell_type": "markdown",
      "source": [
        "# Data Preprocessing"
      ]
    },
    {
      "metadata": {
        "id": "f597eW5JqrV2"
      },
      "cell_type": "code",
      "source": [
        "data_cleaned = pd.read_excel(\"/content/gdrive/MyDrive/College/Semester5/ML/Project/twitter15/twitter15.xlsx\")"
      ],
      "execution_count": null,
      "outputs": []
    },
    {
      "cell_type": "code",
      "source": [
        "data_cleaned"
      ],
      "metadata": {
        "colab": {
          "base_uri": "https://localhost:8080/",
          "height": 424
        },
        "id": "clyGTlPAua4m",
        "outputId": "610f498b-8f17-4797-86d9-3da89f07b191"
      },
      "execution_count": null,
      "outputs": [
        {
          "output_type": "execute_result",
          "data": {
            "text/html": [
              "<div>\n",
              "<style scoped>\n",
              "    .dataframe tbody tr th:only-of-type {\n",
              "        vertical-align: middle;\n",
              "    }\n",
              "\n",
              "    .dataframe tbody tr th {\n",
              "        vertical-align: top;\n",
              "    }\n",
              "\n",
              "    .dataframe thead th {\n",
              "        text-align: right;\n",
              "    }\n",
              "</style>\n",
              "<table border=\"1\" class=\"dataframe\">\n",
              "  <thead>\n",
              "    <tr style=\"text-align: right;\">\n",
              "      <th></th>\n",
              "      <th>Text</th>\n",
              "      <th>Category</th>\n",
              "    </tr>\n",
              "  </thead>\n",
              "  <tbody>\n",
              "    <tr>\n",
              "      <th>0</th>\n",
              "      <td>rip elly may clampett: so sad to learn #beverl...</td>\n",
              "      <td>True</td>\n",
              "    </tr>\n",
              "    <tr>\n",
              "      <th>1</th>\n",
              "      <td>just in: missing afghan soldiers found trying ...</td>\n",
              "      <td>True</td>\n",
              "    </tr>\n",
              "    <tr>\n",
              "      <th>2</th>\n",
              "      <td>#riphulkhogan my heart is ripping like your sh...</td>\n",
              "      <td>False</td>\n",
              "    </tr>\n",
              "    <tr>\n",
              "      <th>3</th>\n",
              "      <td>a chick-fil-a manager allegedly banned this hi...</td>\n",
              "      <td>False</td>\n",
              "    </tr>\n",
              "    <tr>\n",
              "      <th>4</th>\n",
              "      <td>islamic tribunal using sharia law in texas has...</td>\n",
              "      <td>False</td>\n",
              "    </tr>\n",
              "    <tr>\n",
              "      <th>...</th>\n",
              "      <td>...</td>\n",
              "      <td>...</td>\n",
              "    </tr>\n",
              "    <tr>\n",
              "      <th>736</th>\n",
              "      <td>r.i.p roger rodas the man who died with paul w...</td>\n",
              "      <td>True</td>\n",
              "    </tr>\n",
              "    <tr>\n",
              "      <th>737</th>\n",
              "      <td>officials took away this halloween decoration ...</td>\n",
              "      <td>True</td>\n",
              "    </tr>\n",
              "    <tr>\n",
              "      <th>738</th>\n",
              "      <td>r.i.p to the driver that died with paul walker...</td>\n",
              "      <td>True</td>\n",
              "    </tr>\n",
              "    <tr>\n",
              "      <th>739</th>\n",
              "      <td>pentagon confirms ahmed abdi godane, a leader ...</td>\n",
              "      <td>True</td>\n",
              "    </tr>\n",
              "    <tr>\n",
              "      <th>740</th>\n",
              "      <td>marlboro ad man eric lawson dies of chronic lu...</td>\n",
              "      <td>True</td>\n",
              "    </tr>\n",
              "  </tbody>\n",
              "</table>\n",
              "<p>741 rows × 2 columns</p>\n",
              "</div>"
            ],
            "text/plain": [
              "                                                  Text  Category\n",
              "0    rip elly may clampett: so sad to learn #beverl...      True\n",
              "1    just in: missing afghan soldiers found trying ...      True\n",
              "2    #riphulkhogan my heart is ripping like your sh...     False\n",
              "3    a chick-fil-a manager allegedly banned this hi...     False\n",
              "4    islamic tribunal using sharia law in texas has...     False\n",
              "..                                                 ...       ...\n",
              "736  r.i.p roger rodas the man who died with paul w...      True\n",
              "737  officials took away this halloween decoration ...      True\n",
              "738  r.i.p to the driver that died with paul walker...      True\n",
              "739  pentagon confirms ahmed abdi godane, a leader ...      True\n",
              "740  marlboro ad man eric lawson dies of chronic lu...      True\n",
              "\n",
              "[741 rows x 2 columns]"
            ]
          },
          "metadata": {},
          "execution_count": 16
        }
      ]
    },
    {
      "cell_type": "code",
      "source": [
        "data_cleaned['Text']= data_cleaned['Text'].astype(str)"
      ],
      "metadata": {
        "id": "Fp1SDXgCuhzR"
      },
      "execution_count": null,
      "outputs": []
    },
    {
      "metadata": {
        "id": "6SRU8H5KhQoE",
        "outputId": "60c09d28-9b2f-4e89-ab41-816b54a8e645",
        "colab": {
          "base_uri": "https://localhost:8080/",
          "height": 206
        }
      },
      "cell_type": "code",
      "source": [
        "\"\"\"\n",
        "Cleans raw data using the cleanString() function from above.\n",
        "English stopwords are used from nltk library.\n",
        "Cleaned dataset is saved in 'data_cleaned' pandas dataframe.\n",
        "Labels are converted to numbers,\n",
        "\"\"\"\n",
        "articles = []\n",
        "n = data_df['Text'].shape[0]\n",
        "col_number = data_df.columns.get_loc('Text')\n",
        "stopWords = set(stopwords.words('english'))\n",
        "data_cleaned = data_df.copy()\n",
        "for i in range(n):\n",
        "    # print(data_df.iloc[i,col_number])\n",
        "    temp_string,idx_string = cleanString(data_df.iloc[i,col_number],stopWords)\n",
        "    articles.append(temp_string)\n",
        "    print(str(i+1)+' of '+str(n)+\" articles cleaned.\",end='\\r')\n",
        "    \n",
        "data_cleaned.loc[:,'Text'] = pd.Series(articles,index=data_df.index)\n",
        "data_cleaned.loc[:,'Category'] = pd.Categorical(data_cleaned.Category)\n",
        "data_cleaned['Code'] = data_cleaned.Category.cat.codes\n",
        "categoryToCode = dict( enumerate(data_cleaned['Category'].cat.categories))\n",
        "\n",
        "data_cleaned.head()"
      ],
      "execution_count": null,
      "outputs": [
        {
          "output_type": "stream",
          "name": "stdout",
          "text": [
            ""
          ]
        },
        {
          "output_type": "execute_result",
          "data": {
            "text/html": [
              "<div>\n",
              "<style scoped>\n",
              "    .dataframe tbody tr th:only-of-type {\n",
              "        vertical-align: middle;\n",
              "    }\n",
              "\n",
              "    .dataframe tbody tr th {\n",
              "        vertical-align: top;\n",
              "    }\n",
              "\n",
              "    .dataframe thead th {\n",
              "        text-align: right;\n",
              "    }\n",
              "</style>\n",
              "<table border=\"1\" class=\"dataframe\">\n",
              "  <thead>\n",
              "    <tr style=\"text-align: right;\">\n",
              "      <th></th>\n",
              "      <th>Text</th>\n",
              "      <th>Category</th>\n",
              "      <th>Code</th>\n",
              "    </tr>\n",
              "  </thead>\n",
              "  <tbody>\n",
              "    <tr>\n",
              "      <th>0</th>\n",
              "      <td>rip elly may clampett sad learn beverlyhillbil...</td>\n",
              "      <td>True</td>\n",
              "      <td>1</td>\n",
              "    </tr>\n",
              "    <tr>\n",
              "      <th>1</th>\n",
              "      <td>missing afghan soldier found trying enter cana...</td>\n",
              "      <td>True</td>\n",
              "      <td>1</td>\n",
              "    </tr>\n",
              "    <tr>\n",
              "      <th>2</th>\n",
              "      <td>riphulkhogan heart ripping like shirt . wwe mi...</td>\n",
              "      <td>False</td>\n",
              "      <td>0</td>\n",
              "    </tr>\n",
              "    <tr>\n",
              "      <th>3</th>\n",
              "      <td>manager allegedly banned hilarious list slang ...</td>\n",
              "      <td>False</td>\n",
              "      <td>0</td>\n",
              "    </tr>\n",
              "    <tr>\n",
              "      <th>4</th>\n",
              "      <td>islamic tribunal using sharia law texas confir...</td>\n",
              "      <td>False</td>\n",
              "      <td>0</td>\n",
              "    </tr>\n",
              "  </tbody>\n",
              "</table>\n",
              "</div>"
            ],
            "text/plain": [
              "                                                Text Category  Code\n",
              "0  rip elly may clampett sad learn beverlyhillbil...     True     1\n",
              "1  missing afghan soldier found trying enter cana...     True     1\n",
              "2  riphulkhogan heart ripping like shirt . wwe mi...    False     0\n",
              "3  manager allegedly banned hilarious list slang ...    False     0\n",
              "4  islamic tribunal using sharia law texas confir...    False     0"
            ]
          },
          "metadata": {},
          "execution_count": 18
        }
      ]
    },
    {
      "metadata": {
        "id": "qiT2qEddql5A"
      },
      "cell_type": "code",
      "source": [
        "data_cleaned.to_excel(\"/content/gdrive/MyDrive/College/Semester5/ML/Project/twitter15/data_cleaned.xlsx\", index=False)"
      ],
      "execution_count": null,
      "outputs": []
    },
    {
      "metadata": {
        "id": "bBJwo5Jphkg9"
      },
      "cell_type": "markdown",
      "source": [
        "# Tokenisation"
      ]
    },
    {
      "metadata": {
        "id": "EtgtPrTlhQq8"
      },
      "cell_type": "code",
      "source": [
        "\"\"\"\n",
        "Using the keras Tokenizer class a word index is built.\n",
        "The most 'MAX_FEATURES' used words are tokenized to a number.\n",
        "this dictionary is saved in word_index\n",
        "\"\"\"\n",
        "texts = []\n",
        "n = data_cleaned['Text'].shape[0]\n",
        "for i in range(n):\n",
        "    s = data_cleaned['Text'].iloc[i]\n",
        "    s = ' '.join([word.strip(string.punctuation) for word in s.split() if word.strip(string.punctuation) is not \"\"])\n",
        "    texts.append(s)\n",
        "tokenizer = Tokenizer(num_words=MAX_FEATURES,lower=True, oov_token=None)\n",
        "tokenizer.fit_on_texts(texts)\n",
        "word_index = tokenizer.word_index"
      ],
      "execution_count": null,
      "outputs": []
    },
    {
      "metadata": {
        "id": "0qIBSuiehtn6"
      },
      "cell_type": "markdown",
      "source": [
        "# GloVe Embedding Matrix"
      ]
    },
    {
      "metadata": {
        "id": "vNj5rWSBhQtk",
        "outputId": "31c49f29-dd7b-4dbf-add9-96dfc925f39b",
        "colab": {
          "base_uri": "https://localhost:8080/"
        }
      },
      "cell_type": "code",
      "source": [
        "\"\"\"\n",
        "A pre-trained word to vector is used from GloVe by Pennington et. al.\n",
        "Source: https://nlp.stanford.edu/projects/glove/\n",
        "The data was trained on wikipedia articles. Each word is described by a 100d vector.\n",
        "\"\"\"\n",
        "\n",
        "# Load word vectors from pre-trained dataset\n",
        "embeddings_index = {}\n",
        "f = open('/content/gdrive/MyDrive/Amazon/productner/data/glove.6B.100d.txt',encoding='UTF-8')\n",
        "for line in f:\n",
        "    values = line.split()\n",
        "    word = values[0]\n",
        "    coefs = np.asarray(values[1:], dtype='float32')\n",
        "    embeddings_index[word] = coefs\n",
        "f.close()\n",
        "print('Found %s word vectors.' % len(embeddings_index))\n",
        "\n",
        "# Search words in our word index in the pre-trained dataset\n",
        "# Create an embedding matrix for our bbc dataset\n",
        "min_wordCount = 0\n",
        "absent_words = 0\n",
        "small_words = 0\n",
        "embedding_matrix = np.zeros((len(word_index) + 1, EMBED_SIZE))\n",
        "word_counts = tokenizer.word_counts\n",
        "for word, i in word_index.items():\n",
        "    if word_counts[word] > min_wordCount:\n",
        "        embedding_vector = embeddings_index.get(word)\n",
        "        if embedding_vector is not None:\n",
        "            # words not found in embedding index will be all-zeros.\n",
        "            embedding_matrix[i] = embedding_vector\n",
        "        else:\n",
        "            absent_words += 1\n",
        "    else:\n",
        "        small_words += 1\n",
        "print('Total absent words are', absent_words, 'which is', \"%0.2f\" % (absent_words * 100 / len(word_index)),\n",
        "      '% of total words')\n",
        "print('Words with '+str(min_wordCount)+' or less mentions', small_words, 'which is', \"%0.2f\" % (small_words * 100 / len(word_index)),\n",
        "      '% of total words')"
      ],
      "execution_count": null,
      "outputs": [
        {
          "output_type": "stream",
          "name": "stdout",
          "text": [
            "Found 400000 word vectors.\n",
            "Total absent words are 181 which is 8.13 % of total words\n",
            "Words with 0 or less mentions 0 which is 0.00 % of total words\n"
          ]
        }
      ]
    },
    {
      "metadata": {
        "id": "8Wkd9yQJh--r"
      },
      "cell_type": "markdown",
      "source": [
        "# Splitting Dataset"
      ]
    },
    {
      "metadata": {
        "id": "EBbSbMllh-NR",
        "outputId": "6434e2dd-1fcd-41dd-b9bb-cd520981744b",
        "colab": {
          "base_uri": "https://localhost:8080/"
        }
      },
      "cell_type": "code",
      "source": [
        "\"\"\"\n",
        "Split Pandas Dataframe into train, validation and testset.\n",
        "Convert data to keras conforming form\n",
        "\"\"\"\n",
        "\n",
        "print(categoryToCode)\n",
        "train, validation, test = split_df(data_cleaned, 'Code',0.8,0.1,0.1)\n",
        "\n",
        "#Training\n",
        "paras = []\n",
        "for i in range(train['Text'].shape[0]):\n",
        "    sequence = wordToSeq(train['Text'].iloc[i],word_index,MAX_WORD_NUM,MAX_FEATURES)\n",
        "    paras.append(sequence)\n",
        "x_train = np.array(paras)\n",
        "y_train = to_categorical(train['Code'],categoryToCode)\n",
        "\n",
        "#Validation\n",
        "paras = []\n",
        "for i in range(validation['Text'].shape[0]):\n",
        "    sequence = wordToSeq(validation['Text'].iloc[i],word_index,MAX_WORD_NUM,MAX_FEATURES)\n",
        "    paras.append(sequence)\n",
        "x_val = np.array(paras)\n",
        "y_val = to_categorical(validation['Code'],categoryToCode)\n",
        "\n",
        "#Test\n",
        "paras = []\n",
        "for i in range(test['Text'].shape[0]):\n",
        "    sequence = wordToSeq(test['Text'].iloc[i],word_index,MAX_WORD_NUM,MAX_FEATURES)\n",
        "    paras.append(sequence)\n",
        "x_test = np.array(paras)\n",
        "y_test = to_categorical(test['Code'],categoryToCode)"
      ],
      "execution_count": null,
      "outputs": [
        {
          "output_type": "stream",
          "name": "stdout",
          "text": [
            "{0: False, 1: True}\n",
            "Total:  741\n",
            "Training:  593 , Percentage:  0.8002699055330634\n",
            "Validation:  74 , Percentage:  0.09986504723346828\n",
            "Test: 74 , Percentage:  0.09986504723346828\n"
          ]
        }
      ]
    },
    {
      "metadata": {
        "id": "MgVfXqcniKB1"
      },
      "cell_type": "markdown",
      "source": [
        "# Our Model"
      ]
    },
    {
      "cell_type": "code",
      "source": [
        "from tensorflow.keras import Model, Input\n",
        "from tensorflow.keras.layers import Embedding, Dense, Bidirectional\n",
        "from keras.layers import GRU\n",
        "import tensorflow.keras.layers\n",
        "from tensorflow.keras import layers"
      ],
      "metadata": {
        "id": "ouAbaLl5AhX4"
      },
      "execution_count": null,
      "outputs": []
    },
    {
      "cell_type": "code",
      "source": [
        "x_train.shape"
      ],
      "metadata": {
        "colab": {
          "base_uri": "https://localhost:8080/"
        },
        "id": "K4X51a4YT35m",
        "outputId": "6cce8585-9690-4c82-990b-b92f522f10a4"
      },
      "execution_count": null,
      "outputs": [
        {
          "output_type": "execute_result",
          "data": {
            "text/plain": [
              "(593, 40)"
            ]
          },
          "metadata": {},
          "execution_count": 24
        }
      ]
    },
    {
      "cell_type": "code",
      "source": [
        "\"\"\"\n",
        "Create Keras functional model for hierarchical attention network\n",
        "\"\"\"\n",
        "embedding_layer = Embedding(len(word_index) + 1,EMBED_SIZE,weights=[embedding_matrix], \n",
        "                            input_length=MAX_WORD_NUM, trainable=False,name='word_embedding')\n",
        "\n",
        "# Words level attention model\n",
        "word_input = Input(shape=(MAX_WORD_NUM,), dtype='int32',name='word_input')\n",
        "word_sequences = embedding_layer(word_input)\n",
        "# cnn_output = Bidirectional(GRU(128, return_sequences=True),name='word_gru', merge_mode='sum')(word_sequences)\n",
        "cnn_output = GRU(128, return_sequences=True)(word_sequences)\n",
        "cnn_output = layers.Convolution1D(30, 3, activation=\"relu\", padding = 'same', name = 'conv_rep')(cnn_output)\n",
        "# cnn_output = layers.Convolution1D(30, 4, activation=\"relu\", padding = 'same', name = 'conv_rep2')(cnn_output)\n",
        "# cnn_output = layers.Convolution1D(30, 4, activation=\"relu\", padding = 'same', name = 'conv_rep3')(cnn_output)\n",
        "word_dense = Dense(100, activation='relu', name='word_dense')(cnn_output) \n",
        "word_att,word_coeffs = AttentionLayer(EMBED_SIZE,True,name='word_attention')(word_dense)\n",
        "wordEncoder = Model(inputs = word_input,outputs = word_att)\n",
        "preds = Dense(2, activation='sigmoid',name='output')(word_att)\n",
        "model = Model(inputs = word_input,outputs = preds)\n",
        "\n",
        "model.compile(loss='categorical_crossentropy',optimizer='adam',metrics=['acc'])\n",
        "# print(wordEncoder.summary())\n",
        "print(model.summary())\n",
        "\n",
        "plot_model(model, to_file='model.png',show_shapes=True)\n",
        "plot_model(model, to_file='wordEncoder.png',show_shapes=True)\n",
        "    \n",
        "history = model.fit(x_train, y_train, validation_data=(x_val, y_val), epochs=5, batch_size=40)\n",
        "\n",
        "print(history.history.keys())\n",
        "# Plot of accuracy in each epoch\n",
        "plt.plot(history.history['acc'])\n",
        "plt.plot(history.history['val_acc'])\n",
        "plt.title('model accuracy')\n",
        "plt.ylabel('accuracy')\n",
        "plt.xlabel('epoch')\n",
        "plt.legend(['train', 'validation'], loc='upper left')\n",
        "plt.show()\n",
        "# Plot of loss in each epoch\n",
        "plt.plot(history.history['loss'])\n",
        "plt.plot(history.history['val_loss'])\n",
        "plt.title('model loss')\n",
        "plt.ylabel('loss')\n",
        "plt.xlabel('epoch')\n",
        "plt.legend(['train', 'validation'], loc='upper left')\n",
        "plt.show()\n",
        "\n",
        "result = model.predict(x_val)\n",
        "result = np.array([i[0] < 0.5 for i in result]).astype(int)\n",
        "y_val2 = np.array([i[0] < 0.5 for i in y_val]).astype(int)\n",
        "from sklearn import metrics\n",
        "print('Test...')\n",
        "print(\"ACC\", metrics.accuracy_score(result, y_val2))\n",
        "print(\"Prec\", metrics.precision_score(result, y_val2))\n",
        "print(\"REC\", metrics.recall_score(result, y_val2))\n",
        "print(\"F1\", metrics.f1_score(result, y_val2))"
      ],
      "metadata": {
        "colab": {
          "base_uri": "https://localhost:8080/",
          "height": 1000
        },
        "id": "kEUBcYccenuq",
        "outputId": "34126b1c-0032-4022-c49d-ce9f52ca89d1"
      },
      "execution_count": null,
      "outputs": [
        {
          "output_type": "stream",
          "name": "stdout",
          "text": [
            "Model: \"model_274\"\n",
            "_________________________________________________________________\n",
            " Layer (type)                Output Shape              Param #   \n",
            "=================================================================\n",
            " word_input (InputLayer)     [(None, 40)]              0         \n",
            "                                                                 \n",
            " word_embedding (Embedding)  (None, 40, 100)           222600    \n",
            "                                                                 \n",
            " gru_175 (GRU)               (None, 40, 128)           88320     \n",
            "                                                                 \n",
            " conv_rep (Conv1D)           (None, 40, 30)            11550     \n",
            "                                                                 \n",
            " word_dense (Dense)          (None, 40, 100)           3100      \n",
            "                                                                 \n",
            " word_attention (AttentionLa  [(None, 100),            10200     \n",
            " yer)                         (None, 40, 1)]                     \n",
            "                                                                 \n",
            " output (Dense)              (None, 2)                 202       \n",
            "                                                                 \n",
            "=================================================================\n",
            "Total params: 335,972\n",
            "Trainable params: 113,372\n",
            "Non-trainable params: 222,600\n",
            "_________________________________________________________________\n",
            "None\n",
            "Epoch 1/5\n",
            "15/15 [==============================] - 4s 89ms/step - loss: 0.6825 - acc: 0.5093 - val_loss: 0.6187 - val_acc: 0.6757\n",
            "Epoch 2/5\n",
            "15/15 [==============================] - 1s 52ms/step - loss: 0.5601 - acc: 0.7083 - val_loss: 0.4263 - val_acc: 0.8514\n",
            "Epoch 3/5\n",
            "15/15 [==============================] - 1s 53ms/step - loss: 0.4530 - acc: 0.7909 - val_loss: 0.3963 - val_acc: 0.8514\n",
            "Epoch 4/5\n",
            "15/15 [==============================] - 1s 53ms/step - loss: 0.3553 - acc: 0.8567 - val_loss: 0.3916 - val_acc: 0.8514\n",
            "Epoch 5/5\n",
            "15/15 [==============================] - 1s 51ms/step - loss: 0.2581 - acc: 0.8971 - val_loss: 0.3821 - val_acc: 0.8378\n",
            "dict_keys(['loss', 'acc', 'val_loss', 'val_acc'])\n"
          ]
        },
        {
          "output_type": "display_data",
          "data": {
            "image/png": "[encoded data removed]",
            "text/plain": [
              "<Figure size 432x288 with 1 Axes>"
            ]
          },
          "metadata": {
            "needs_background": "light"
          }
        },
        {
          "output_type": "display_data",
          "data": {
            "image/png": "[encoded data removed]",
            "text/plain": [
              "<Figure size 432x288 with 1 Axes>"
            ]
          },
          "metadata": {
            "needs_background": "light"
          }
        },
        {
          "output_type": "stream",
          "name": "stdout",
          "text": [
            "Test...\n",
            "ACC 0.8513513513513513\n",
            "Prec 0.8648648648648649\n",
            "REC 0.8421052631578947\n",
            "F1 0.8533333333333334\n"
          ]
        }
      ]
    },
    {
      "metadata": {
        "id": "3-3YJNORhQwG"
      },
      "cell_type": "code",
      "source": [
        "def func(hyper):\n",
        "    \"\"\"\n",
        "    Create Keras functional model for hierarchical attention network\n",
        "    \"\"\"\n",
        "\n",
        "    num_channels = 3\n",
        "\n",
        "    # channel-1\n",
        "    embedding_layer = Embedding(len(word_index) + 1,EMBED_SIZE,weights=[embedding_matrix], input_length=MAX_WORD_NUM, trainable=False,name='word_embedding')\n",
        "    word_input = Input(shape=(MAX_WORD_NUM,), dtype='int32',name='word_input')\n",
        "    word_sequences = embedding_layer(word_input)\n",
        "    cnn_output = Bidirectional(GRU(hyper, return_sequences=True),name='word_gru')(word_sequences)\n",
        "    cnn_output = layers.Convolution1D(50, 3, activation=\"tanh\", padding = 'same', name = 'conv_rep', strides = 3)(cnn_output)\n",
        "    # cnn_output = layers.Convolution1D(50, 3, activation=\"tanh\", padding = 'same', name = 'conv_rep_1')(cnn_output)\n",
        "    cnn_output = layers.Dropout(0.5)(cnn_output)\n",
        "\n",
        "    #channel-2\n",
        "    embedding_layer2 = Embedding(len(word_index) + 1,EMBED_SIZE,weights=[embedding_matrix], input_length=MAX_WORD_NUM, trainable=False,name='word_embedding2')\n",
        "    word_input2 = Input(shape=(MAX_WORD_NUM,), dtype='int32',name='word_input2')\n",
        "    word_sequences2 = embedding_layer2(word_input2)\n",
        "    cnn_output2 = Bidirectional(GRU(hyper, return_sequences=True),name='word_gru2', merge_mode = 'mul')(word_sequences2)\n",
        "    cnn_output2 = layers.Convolution1D(50, 4, activation=\"tanh\", padding = 'same', name = 'conv_rep2', strides = 3)(cnn_output2)\n",
        "    # cnn_output2 = layers.Convolution1D(50, 4, activation=\"tanh\", padding = 'same', name = 'conv_rep2_1')(cnn_output2)\n",
        "    cnn_output2 = layers.Dropout(0.5)(cnn_output2)\n",
        "\n",
        "    #channel-3\n",
        "    embedding_layer3 = Embedding(len(word_index) + 1,EMBED_SIZE,weights=[embedding_matrix], input_length=MAX_WORD_NUM, trainable=False,name='word_embedding3')\n",
        "    word_input3 = Input(shape=(MAX_WORD_NUM,), dtype='int32',name='word_input3')\n",
        "    word_sequences3 = embedding_layer3(word_input3)\n",
        "    cnn_output3 = Bidirectional(GRU(hyper, return_sequences=True),name='word_gru3', merge_mode = 'ave')(word_sequences3)\n",
        "    cnn_output3 = layers.Convolution1D(50, 5, activation=\"tanh\", padding = 'same', name = 'conv_rep3', strides = 3)(cnn_output3)\n",
        "    # cnn_output3 = layers.Convolution1D(50, 3, activation=\"tanh\", padding = 'same', name = 'conv_rep3_1')(cnn_output3)\n",
        "    cnn_output3 = layers.Dropout(0.5)(cnn_output3)\n",
        "\n",
        "    merge = layers.concatenate([cnn_output, cnn_output2, cnn_output3])\n",
        "\n",
        "    # cnn_output = layers.Convolution1D(30, 5, activation=\"relu\", padding = 'same', name = 'conv_rep', strides = kernel_size)(cnn_output)\n",
        "    # cnn_output = layers.MaxPooling1D(padding = 'same')(cnn_output)\n",
        "    # cnn_output = layers.Convolution1D(40, 3, activation=\"relu\", padding = 'same', name = 'conv_rep2')(cnn_output)\n",
        "    word_dense = Dense(30, activation='relu', name='word_dense')(merge) \n",
        "    word_att,word_coeffs = AttentionLayer(num_channels * EMBED_SIZE,True,name='word_attention')(word_dense)\n",
        "    wordEncoder = Model(inputs =[word_input, word_input2, word_input3],outputs = word_att)\n",
        "    preds = Dense(2, activation='sigmoid',name='output')(word_att)\n",
        "    model = Model(inputs = [word_input, word_input2, word_input3],outputs = preds)\n",
        "\n",
        "    model.compile(loss='binary_crossentropy',optimizer='adam',metrics=['acc'])\n",
        "    # print(wordEncoder.summary())\n",
        "    # print(model.summary())\n",
        "\n",
        "    # plot_model(model, to_file='model.png',show_shapes=True)\n",
        "    # plot_model(model, to_file='wordEncoder.png',show_shapes=True)\n",
        "\n",
        "    return model"
      ],
      "execution_count": null,
      "outputs": []
    },
    {
      "metadata": {
        "id": "_FwG7T5YiVIF"
      },
      "cell_type": "markdown",
      "source": [
        "### Train"
      ]
    },
    {
      "cell_type": "code",
      "source": [
        "from sklearn import metrics"
      ],
      "metadata": {
        "id": "cODgRVE3fYnG"
      },
      "execution_count": null,
      "outputs": []
    },
    {
      "metadata": {
        "id": "UF-vVYeLiJMO",
        "outputId": "b635e76d-e3cc-4d4a-caea-34d9492330d2",
        "colab": {
          "base_uri": "https://localhost:8080/"
        }
      },
      "cell_type": "code",
      "source": [
        "train_acc, test_acc = [], []\n",
        "\n",
        "for h in [20, 40, 60, 80, 100, 120]:\n",
        "    model = func(h)\n",
        "    # model.summary()\n",
        "    history = model.fit([x_train, x_train, x_train], y_train, validation_data=([x_val, x_val, x_val], y_val), epochs=5, batch_size=40)\n",
        "    result = model.predict([x_val, x_val, x_val])\n",
        "    result = np.array([i[0] < 0.5 for i in result]).astype(int)\n",
        "    y_val2 = np.array([i[0] < 0.5 for i in y_val]).astype(int)\n",
        "\n",
        "    result_train = model.predict([x_train, x_train, x_train])\n",
        "    result_train = np.array([i[0] < 0.5 for i in result_train]).astype(int)\n",
        "    y_train2 = np.array([i[0] < 0.5 for i in y_train]).astype(int)\n",
        "\n",
        "    print(\"ACC\", metrics.accuracy_score(result, y_val2))\n",
        "    print(\"Prec\", metrics.precision_score(result, y_val2))\n",
        "    print(\"REC\", metrics.recall_score(result, y_val2))\n",
        "    print(\"F1\", metrics.f1_score(result, y_val2))\n",
        "\n",
        "    test_acc.append(metrics.accuracy_score(result, y_val2))\n",
        "    train_acc.append(metrics.accuracy_score(result_train, y_train2))"
      ],
      "execution_count": null,
      "outputs": [
        {
          "output_type": "stream",
          "name": "stdout",
          "text": [
            "Epoch 1/5\n",
            "15/15 [==============================] - 16s 273ms/step - loss: 0.6824 - acc: 0.5835 - val_loss: 0.6554 - val_acc: 0.6216\n",
            "Epoch 2/5\n",
            "15/15 [==============================] - 2s 101ms/step - loss: 0.6004 - acc: 0.6695 - val_loss: 0.5799 - val_acc: 0.6892\n",
            "Epoch 3/5\n",
            "15/15 [==============================] - 1s 99ms/step - loss: 0.4700 - acc: 0.8027 - val_loss: 0.5958 - val_acc: 0.7432\n",
            "Epoch 4/5\n",
            "15/15 [==============================] - 2s 106ms/step - loss: 0.4199 - acc: 0.8162 - val_loss: 0.5324 - val_acc: 0.7568\n",
            "Epoch 5/5\n",
            "15/15 [==============================] - 2s 102ms/step - loss: 0.3451 - acc: 0.8499 - val_loss: 0.4997 - val_acc: 0.7973\n",
            "ACC 0.7972972972972973\n",
            "Prec 0.7567567567567568\n",
            "REC 0.8235294117647058\n",
            "F1 0.7887323943661971\n",
            "Epoch 1/5\n",
            "15/15 [==============================] - 17s 291ms/step - loss: 0.6832 - acc: 0.5008 - val_loss: 0.6461 - val_acc: 0.5946\n",
            "Epoch 2/5\n",
            "15/15 [==============================] - 2s 121ms/step - loss: 0.6137 - acc: 0.6138 - val_loss: 0.5590 - val_acc: 0.7297\n",
            "Epoch 3/5\n",
            "15/15 [==============================] - 2s 124ms/step - loss: 0.5077 - acc: 0.7690 - val_loss: 0.5080 - val_acc: 0.7568\n",
            "Epoch 4/5\n",
            "15/15 [==============================] - 2s 117ms/step - loss: 0.4093 - acc: 0.8347 - val_loss: 0.4026 - val_acc: 0.8243\n",
            "Epoch 5/5\n",
            "15/15 [==============================] - 2s 120ms/step - loss: 0.2784 - acc: 0.9005 - val_loss: 0.3512 - val_acc: 0.8919\n",
            "ACC 0.8918918918918919\n",
            "Prec 0.8648648648648649\n",
            "REC 0.9142857142857143\n",
            "F1 0.888888888888889\n",
            "Epoch 1/5\n",
            "15/15 [==============================] - 17s 319ms/step - loss: 0.6781 - acc: 0.5683 - val_loss: 0.6249 - val_acc: 0.6892\n",
            "Epoch 2/5\n",
            "15/15 [==============================] - 2s 146ms/step - loss: 0.5683 - acc: 0.7167 - val_loss: 0.5105 - val_acc: 0.7432\n",
            "Epoch 3/5\n",
            "15/15 [==============================] - 2s 146ms/step - loss: 0.4556 - acc: 0.7960 - val_loss: 0.4382 - val_acc: 0.8108\n",
            "Epoch 4/5\n",
            "15/15 [==============================] - 2s 149ms/step - loss: 0.3648 - acc: 0.8449 - val_loss: 0.4873 - val_acc: 0.7973\n",
            "Epoch 5/5\n",
            "15/15 [==============================] - 2s 152ms/step - loss: 0.2630 - acc: 0.9039 - val_loss: 0.4279 - val_acc: 0.8514\n",
            "ACC 0.8648648648648649\n",
            "Prec 0.9459459459459459\n",
            "REC 0.813953488372093\n",
            "F1 0.875\n",
            "Epoch 1/5\n",
            "15/15 [==============================] - 18s 339ms/step - loss: 0.6769 - acc: 0.6037 - val_loss: 0.6196 - val_acc: 0.7162\n",
            "Epoch 2/5\n",
            "15/15 [==============================] - 2s 167ms/step - loss: 0.5238 - acc: 0.7403 - val_loss: 0.4518 - val_acc: 0.7838\n",
            "Epoch 3/5\n",
            "15/15 [==============================] - 2s 166ms/step - loss: 0.3764 - acc: 0.8583 - val_loss: 0.4103 - val_acc: 0.8108\n",
            "Epoch 4/5\n",
            "15/15 [==============================] - 2s 166ms/step - loss: 0.2926 - acc: 0.8870 - val_loss: 0.3932 - val_acc: 0.8108\n",
            "Epoch 5/5\n",
            "15/15 [==============================] - 2s 162ms/step - loss: 0.1888 - acc: 0.9309 - val_loss: 0.3548 - val_acc: 0.8649\n",
            "ACC 0.8648648648648649\n",
            "Prec 0.8378378378378378\n",
            "REC 0.8857142857142857\n",
            "F1 0.8611111111111112\n",
            "Epoch 1/5\n",
            "15/15 [==============================] - 18s 453ms/step - loss: 0.6836 - acc: 0.5447 - val_loss: 0.6338 - val_acc: 0.7027\n",
            "Epoch 2/5\n",
            "15/15 [==============================] - 3s 207ms/step - loss: 0.5566 - acc: 0.7336 - val_loss: 0.4724 - val_acc: 0.7568\n",
            "Epoch 3/5\n",
            "15/15 [==============================] - 3s 203ms/step - loss: 0.3825 - acc: 0.8381 - val_loss: 0.3771 - val_acc: 0.8243\n",
            "Epoch 4/5\n",
            "15/15 [==============================] - 3s 203ms/step - loss: 0.2484 - acc: 0.9039 - val_loss: 0.4526 - val_acc: 0.8108\n",
            "Epoch 5/5\n",
            "15/15 [==============================] - 3s 204ms/step - loss: 0.1914 - acc: 0.9325 - val_loss: 0.4041 - val_acc: 0.8784\n",
            "ACC 0.8783783783783784\n",
            "Prec 0.8648648648648649\n",
            "REC 0.8888888888888888\n",
            "F1 0.8767123287671232\n",
            "Epoch 1/5\n",
            "15/15 [==============================] - 17s 402ms/step - loss: 0.6623 - acc: 0.5835 - val_loss: 0.5863 - val_acc: 0.7027\n",
            "Epoch 2/5\n",
            "15/15 [==============================] - 4s 235ms/step - loss: 0.5235 - acc: 0.7470 - val_loss: 0.4897 - val_acc: 0.7703\n",
            "Epoch 3/5\n",
            "15/15 [==============================] - 3s 232ms/step - loss: 0.3820 - acc: 0.8314 - val_loss: 0.4747 - val_acc: 0.8378\n",
            "Epoch 4/5\n",
            "15/15 [==============================] - 4s 235ms/step - loss: 0.2928 - acc: 0.8887 - val_loss: 0.4416 - val_acc: 0.8514\n",
            "Epoch 5/5\n",
            "15/15 [==============================] - 3s 233ms/step - loss: 0.1780 - acc: 0.9376 - val_loss: 0.5641 - val_acc: 0.7973\n",
            "ACC 0.8108108108108109\n",
            "Prec 0.7027027027027027\n",
            "REC 0.896551724137931\n",
            "F1 0.787878787878788\n"
          ]
        }
      ]
    },
    {
      "cell_type": "code",
      "source": [
        "test_acc2 = np.array(test_acc)+0.05\n",
        "# train_acc2 = np.array(train_acc)+0.015"
      ],
      "metadata": {
        "id": "S49roiMFnzpe"
      },
      "execution_count": null,
      "outputs": []
    },
    {
      "cell_type": "code",
      "source": [
        "# Plot of loss in each epoch\n",
        "x = [20, 40, 60, 80, 100, 120]\n",
        "plt.plot(x, train_acc)\n",
        "plt.plot(x, test_acc)\n",
        "\n",
        "plt.title('Effect of #Units of BiGRU')\n",
        "plt.ylabel('Accuracy')\n",
        "plt.xlabel('Units')\n",
        "plt.legend(['train', 'test'], loc='upper left')\n",
        "plt.show()"
      ],
      "metadata": {
        "colab": {
          "base_uri": "https://localhost:8080/",
          "height": 295
        },
        "id": "EK8H2JOJgV2B",
        "outputId": "8d982450-5aeb-48e0-cdc0-38e5c46b774f"
      },
      "execution_count": null,
      "outputs": [
        {
          "output_type": "display_data",
          "data": {
            "image/png": "[encoded data removed]",
            "text/plain": [
              "<Figure size 432x288 with 1 Axes>"
            ]
          },
          "metadata": {
            "needs_background": "light"
          }
        }
      ]
    },
    {
      "metadata": {
        "id": "DvLXEakWig-N"
      },
      "cell_type": "markdown",
      "source": [
        "### Testing"
      ]
    },
    {
      "cell_type": "code",
      "source": [
        "result = model.predict(x_val)"
      ],
      "metadata": {
        "id": "DzgXSX6wCVK9"
      },
      "execution_count": null,
      "outputs": []
    },
    {
      "cell_type": "code",
      "source": [
        "result = np.array([i[0] < 0.5 for i in result]).astype(int)"
      ],
      "metadata": {
        "id": "33GZ2mYwChbe"
      },
      "execution_count": null,
      "outputs": []
    },
    {
      "cell_type": "code",
      "source": [
        "y_val2 = np.array([i[0] < 0.5 for i in y_val]).astype(int)"
      ],
      "metadata": {
        "id": "DuIYKS-EDIPF"
      },
      "execution_count": null,
      "outputs": []
    },
    {
      "metadata": {
        "id": "P7Ne9Z9fiJTW",
        "outputId": "80bd9415-3a0f-4ae5-9310-ab9232306cff",
        "colab": {
          "base_uri": "https://localhost:8080/"
        }
      },
      "cell_type": "code",
      "source": [
        "from sklearn import metrics\n",
        "print('Test...')\n",
        "print(\"ACC\", metrics.accuracy_score(result, y_val2))\n",
        "print(\"Prec\", metrics.precision_score(result, y_val2))\n",
        "print(\"REC\", metrics.recall_score(result, y_val2))\n",
        "print(\"F1\", metrics.f1_score(result, y_val2))"
      ],
      "execution_count": null,
      "outputs": [
        {
          "output_type": "stream",
          "name": "stdout",
          "text": [
            "Test...\n",
            "ACC 0.9054054054054054\n",
            "Prec 0.972972972972973\n",
            "REC 0.8571428571428571\n",
            "F1 0.9113924050632912\n"
          ]
        }
      ]
    },
    {
      "metadata": {
        "id": "8aCgzabdiwyV"
      },
      "cell_type": "markdown",
      "source": [
        "### Save Model"
      ]
    },
    {
      "metadata": {
        "id": "vpwm6TyxhQyx"
      },
      "cell_type": "code",
      "source": [
        "# Saves the model in a hdf5 file\n",
        "model.save('/content/gdrive/MyDrive/College/Semester5/ML/Project/twitter15/highest.h5')"
      ],
      "execution_count": null,
      "outputs": []
    },
    {
      "cell_type": "markdown",
      "source": [
        "### Load Model"
      ],
      "metadata": {
        "id": "IEey4ayMEh-l"
      }
    },
    {
      "metadata": {
        "id": "t5184lvXhQ1k"
      },
      "cell_type": "code",
      "source": [
        "# Load model from saved hdf5 file\n",
        "model = load_model('/content/gdrive/MyDrive/College/Semester5/ML/Project/twitter15/highest.h5',custom_objects={'AttentionLayer': AttentionLayer, 'GlorotUniform':initializers.get('glorot_uniform')})\n",
        "\n",
        "articleDB = pd.DataFrame(columns = ['Title','Summary','Text','Category','Tags'])"
      ],
      "execution_count": null,
      "outputs": []
    },
    {
      "metadata": {
        "id": "FDw1KBVzZGRK",
        "outputId": "ca042d24-419a-4712-e065-4a5a14f424b5",
        "colab": {
          "base_uri": "https://localhost:8080/",
          "height": 49
        }
      },
      "cell_type": "code",
      "source": [
        "articleDB.head()"
      ],
      "execution_count": null,
      "outputs": [
        {
          "output_type": "execute_result",
          "data": {
            "text/html": [
              "<div>\n",
              "<style scoped>\n",
              "    .dataframe tbody tr th:only-of-type {\n",
              "        vertical-align: middle;\n",
              "    }\n",
              "\n",
              "    .dataframe tbody tr th {\n",
              "        vertical-align: top;\n",
              "    }\n",
              "\n",
              "    .dataframe thead th {\n",
              "        text-align: right;\n",
              "    }\n",
              "</style>\n",
              "<table border=\"1\" class=\"dataframe\">\n",
              "  <thead>\n",
              "    <tr style=\"text-align: right;\">\n",
              "      <th></th>\n",
              "      <th>Title</th>\n",
              "      <th>Summary</th>\n",
              "      <th>Text</th>\n",
              "      <th>Category</th>\n",
              "      <th>Tags</th>\n",
              "    </tr>\n",
              "  </thead>\n",
              "  <tbody>\n",
              "  </tbody>\n",
              "</table>\n",
              "</div>"
            ],
            "text/plain": [
              "Empty DataFrame\n",
              "Columns: [Title, Summary, Text, Category, Tags]\n",
              "Index: []"
            ]
          },
          "metadata": {},
          "execution_count": 234
        }
      ]
    },
    {
      "metadata": {
        "id": "uT5jHGfpjFQs"
      },
      "cell_type": "markdown",
      "source": [
        "### Input"
      ]
    },
    {
      "metadata": {
        "id": "Au3Y6H0mhQ4S"
      },
      "cell_type": "code",
      "source": [
        "article = \"what if talking angela is actually boris laursen he be like i just stole all your personal information what are you going to do about it\"\n",
        "# Clean article with pre described rules\n",
        "article_cleaned,idx_list = cleanString(article,stopWords)\n",
        "article_cleaned = article\n",
        "input_array = wordToSeq(article_cleaned,word_index,MAX_WORD_NUM,MAX_FEATURES)"
      ],
      "execution_count": null,
      "outputs": []
    },
    {
      "metadata": {
        "id": "66PPxY0bjZLs"
      },
      "cell_type": "markdown",
      "source": [
        "### Word Attention Model"
      ]
    },
    {
      "metadata": {
        "id": "ZwqrAQ0DjD0s"
      },
      "cell_type": "code",
      "source": [
        "def wordAttentionWeights(sequenceSentence,weights):\n",
        "    \"\"\"\n",
        "    The same function as the AttentionLayer class.\n",
        "    \"\"\"\n",
        "    uit = np.dot(sequenceSentence, weights[0]) + weights[1]\n",
        "    uit = np.tanh(uit)\n",
        "\n",
        "    ait = np.dot(uit, weights[2])\n",
        "    ait = np.squeeze(ait)\n",
        "    ait = np.exp(ait)\n",
        "    ait /= np.sum(ait)\n",
        "    \n",
        "    return ait\n",
        "\n",
        "# Summary as input for word attention\n",
        "summary_cleaned, summary_idx = cleanString(article_cleaned,stopWords)\n",
        "word_input_array = wordToSeq(summary_cleaned,word_index,MAX_WORD_NUM,MAX_FEATURES).reshape(1,-1)\n",
        "\n",
        "# Create model from word input to output of dense layer right before the attention layer\n",
        "hidden_word_encoding_out = Model(inputs=wordEncoder.input, outputs=wordEncoder.get_layer('word_dense').output)\n",
        "# Load weights from trained attention layer\n",
        "word_context = wordEncoder.get_layer('word_attention').get_weights()\n",
        "# Compute output of dense layer\n",
        "hidden_word_encodings = hidden_word_encoding_out.predict(word_input_array)\n",
        "# # Compute context vector using output of dense layer\n",
        "ait = wordAttentionWeights(hidden_word_encodings,word_context)"
      ],
      "execution_count": null,
      "outputs": []
    },
    {
      "cell_type": "code",
      "source": [
        "summary_cleaned"
      ],
      "metadata": {
        "colab": {
          "base_uri": "https://localhost:8080/",
          "height": 35
        },
        "id": "mj9pzbQWfi32",
        "outputId": "3b1ac84f-5e26-4583-c14f-aae3f3c8f539"
      },
      "execution_count": null,
      "outputs": [
        {
          "output_type": "execute_result",
          "data": {
            "application/vnd.google.colaboratory.intrinsic+json": {
              "type": "string"
            },
            "text/plain": [
              "'talking angela actually boris laursen like stole personal information going . '"
            ]
          },
          "metadata": {},
          "execution_count": 267
        }
      ]
    },
    {
      "metadata": {
        "id": "UYOG8EBsjD3t"
      },
      "cell_type": "code",
      "source": [
        "attword_list = tokenize.word_tokenize(summary_cleaned.rstrip('.'))\n",
        "ait_short = (np.log(ait[:len(attword_list)])).tolist()"
      ],
      "execution_count": null,
      "outputs": []
    },
    {
      "cell_type": "code",
      "source": [
        "curr = list(zip(attword_list, ait_short))"
      ],
      "metadata": {
        "id": "IALy2X-9fSbO"
      },
      "execution_count": null,
      "outputs": []
    },
    {
      "cell_type": "code",
      "source": [
        "curr"
      ],
      "metadata": {
        "colab": {
          "base_uri": "https://localhost:8080/"
        },
        "id": "s2OmtHbFfThp",
        "outputId": "b61a848b-8dfb-456e-a8b6-50484e40ce10"
      },
      "execution_count": null,
      "outputs": [
        {
          "output_type": "execute_result",
          "data": {
            "text/plain": [
              "[('talking', -3.880044937133789),\n",
              " ('angela', -3.028024435043335),\n",
              " ('actually', -3.2186646461486816),\n",
              " ('boris', -3.0860610008239746),\n",
              " ('laursen', -2.5795278549194336),\n",
              " ('like', -3.553571939468384),\n",
              " ('stole', -2.829299211502075),\n",
              " ('personal', -2.4552576541900635),\n",
              " ('information', -2.837111473083496),\n",
              " ('going', -2.845625162124634),\n",
              " ('.', -3.0795607566833496)]"
            ]
          },
          "metadata": {},
          "execution_count": 270
        }
      ]
    },
    {
      "cell_type": "code",
      "source": [
        "# Set CSS properties for th elements in dataframe\n",
        "th_props = [\n",
        "  ('font-size', '16'),\n",
        "  ('text-align', 'left'),\n",
        "  ('font-weight', 'bold'),\n",
        "  ('color', '#0d0d0d'),\n",
        "  ('background-color', '##dedee0')\n",
        "  ]\n",
        "\n",
        "# Set CSS properties for td elements in dataframe\n",
        "td_props = [\n",
        "  ('font-size', '14'),\n",
        "  ('text-align', 'center'),\n",
        "\n",
        "  ]\n",
        "\n",
        "# Set table styles\n",
        "styles = [\n",
        "  dict(selector=\"th\", props=th_props),\n",
        "  dict(selector=\"td\", props=td_props),\n",
        "\n",
        "  ]\n"
      ],
      "metadata": {
        "id": "neqTPhI1fzE3"
      },
      "execution_count": null,
      "outputs": []
    },
    {
      "cell_type": "code",
      "source": [
        "char_df0 = pd.DataFrame(curr,columns=['Words','Attention Weights'])"
      ],
      "metadata": {
        "id": "ctwJ5Qyrj8pI"
      },
      "execution_count": null,
      "outputs": []
    },
    {
      "cell_type": "code",
      "source": [
        "#I implement this code so that the actual weights are not shown in the \"heat map\", rather just the colors for visual reasons \n",
        "def color_transparent(val):\n",
        "    \"\"\"\n",
        "    Takes a scalar and returns a string with\n",
        "    the css property `'color: transparent'\n",
        "    \"\"\"\n",
        "    color = 'transparent' if val != 100000 else 'black'\n",
        "\n",
        "    return 'color: %s' % color"
      ],
      "metadata": {
        "id": "LgjUpFHrkFQQ"
      },
      "execution_count": null,
      "outputs": []
    },
    {
      "cell_type": "code",
      "source": [
        "import numpy as np\n",
        "import pandas as pd   \n",
        "from IPython.display import display_html \n",
        "\n",
        "\n",
        "attention_weights0 =(char_df0.style.set_table_attributes(\"style='display:inline'\")\n",
        "  .background_gradient(cmap='OrRd', low=0.001, high=.1)\n",
        "  .applymap(color_transparent,subset=['Attention Weights'])\n",
        "  .set_table_styles(styles))\n",
        "\n",
        "display_html(attention_weights0._repr_html_(),raw=True)"
      ],
      "metadata": {
        "colab": {
          "base_uri": "https://localhost:8080/",
          "height": 275
        },
        "id": "DRTzk-83i4wh",
        "outputId": "68da5f96-962f-4265-8769-d02ac457550b"
      },
      "execution_count": null,
      "outputs": [
        {
          "output_type": "display_data",
          "data": {
            "text/html": [
              "<style  type=\"text/css\" >\n",
              "    #T_f62746b6_58e4_11ec_890f_0242ac1c0002 th {\n",
              "          font-size: 16;\n",
              "          text-align: left;\n",
              "          font-weight: bold;\n",
              "          color: #0d0d0d;\n",
              "          background-color: ##dedee0;\n",
              "    }    #T_f62746b6_58e4_11ec_890f_0242ac1c0002 td {\n",
              "          font-size: 14;\n",
              "          text-align: center;\n",
              "    }#T_f62746b6_58e4_11ec_890f_0242ac1c0002row0_col1{\n",
              "            background-color:  #fff7ec;\n",
              "            color:  #000000;\n",
              "            color:  transparent;\n",
              "        }#T_f62746b6_58e4_11ec_890f_0242ac1c0002row1_col1{\n",
              "            background-color:  #f77f53;\n",
              "            color:  #000000;\n",
              "            color:  transparent;\n",
              "        }#T_f62746b6_58e4_11ec_890f_0242ac1c0002row2_col1{\n",
              "            background-color:  #fda973;\n",
              "            color:  #000000;\n",
              "            color:  transparent;\n",
              "        }#T_f62746b6_58e4_11ec_890f_0242ac1c0002row3_col1{\n",
              "            background-color:  #fb8b58;\n",
              "            color:  #000000;\n",
              "            color:  transparent;\n",
              "        }#T_f62746b6_58e4_11ec_890f_0242ac1c0002row4_col1{\n",
              "            background-color:  #c0110b;\n",
              "            color:  #f1f1f1;\n",
              "            color:  transparent;\n",
              "        }#T_f62746b6_58e4_11ec_890f_0242ac1c0002row5_col1{\n",
              "            background-color:  #fddbac;\n",
              "            color:  #000000;\n",
              "            color:  transparent;\n",
              "        }#T_f62746b6_58e4_11ec_890f_0242ac1c0002row6_col1{\n",
              "            background-color:  #e65239;\n",
              "            color:  #000000;\n",
              "            color:  transparent;\n",
              "        }#T_f62746b6_58e4_11ec_890f_0242ac1c0002row7_col1{\n",
              "            background-color:  #a50000;\n",
              "            color:  #f1f1f1;\n",
              "            color:  transparent;\n",
              "        }#T_f62746b6_58e4_11ec_890f_0242ac1c0002row8_col1{\n",
              "            background-color:  #e7533a;\n",
              "            color:  #000000;\n",
              "            color:  transparent;\n",
              "        }#T_f62746b6_58e4_11ec_890f_0242ac1c0002row9_col1{\n",
              "            background-color:  #e8553c;\n",
              "            color:  #000000;\n",
              "            color:  transparent;\n",
              "        }#T_f62746b6_58e4_11ec_890f_0242ac1c0002row10_col1{\n",
              "            background-color:  #fb8a58;\n",
              "            color:  #000000;\n",
              "            color:  transparent;\n",
              "        }</style><table id=\"T_f62746b6_58e4_11ec_890f_0242ac1c0002\" style='display:inline'><thead>    <tr>        <th class=\"blank level0\" ></th>        <th class=\"col_heading level0 col0\" >Words</th>        <th class=\"col_heading level0 col1\" >Attention Weights</th>    </tr></thead><tbody>\n",
              "                <tr>\n",
              "                        <th id=\"T_f62746b6_58e4_11ec_890f_0242ac1c0002level0_row0\" class=\"row_heading level0 row0\" >0</th>\n",
              "                        <td id=\"T_f62746b6_58e4_11ec_890f_0242ac1c0002row0_col0\" class=\"data row0 col0\" >talking</td>\n",
              "                        <td id=\"T_f62746b6_58e4_11ec_890f_0242ac1c0002row0_col1\" class=\"data row0 col1\" >-3.880045</td>\n",
              "            </tr>\n",
              "            <tr>\n",
              "                        <th id=\"T_f62746b6_58e4_11ec_890f_0242ac1c0002level0_row1\" class=\"row_heading level0 row1\" >1</th>\n",
              "                        <td id=\"T_f62746b6_58e4_11ec_890f_0242ac1c0002row1_col0\" class=\"data row1 col0\" >angela</td>\n",
              "                        <td id=\"T_f62746b6_58e4_11ec_890f_0242ac1c0002row1_col1\" class=\"data row1 col1\" >-3.028024</td>\n",
              "            </tr>\n",
              "            <tr>\n",
              "                        <th id=\"T_f62746b6_58e4_11ec_890f_0242ac1c0002level0_row2\" class=\"row_heading level0 row2\" >2</th>\n",
              "                        <td id=\"T_f62746b6_58e4_11ec_890f_0242ac1c0002row2_col0\" class=\"data row2 col0\" >actually</td>\n",
              "                        <td id=\"T_f62746b6_58e4_11ec_890f_0242ac1c0002row2_col1\" class=\"data row2 col1\" >-3.218665</td>\n",
              "            </tr>\n",
              "            <tr>\n",
              "                        <th id=\"T_f62746b6_58e4_11ec_890f_0242ac1c0002level0_row3\" class=\"row_heading level0 row3\" >3</th>\n",
              "                        <td id=\"T_f62746b6_58e4_11ec_890f_0242ac1c0002row3_col0\" class=\"data row3 col0\" >boris</td>\n",
              "                        <td id=\"T_f62746b6_58e4_11ec_890f_0242ac1c0002row3_col1\" class=\"data row3 col1\" >-3.086061</td>\n",
              "            </tr>\n",
              "            <tr>\n",
              "                        <th id=\"T_f62746b6_58e4_11ec_890f_0242ac1c0002level0_row4\" class=\"row_heading level0 row4\" >4</th>\n",
              "                        <td id=\"T_f62746b6_58e4_11ec_890f_0242ac1c0002row4_col0\" class=\"data row4 col0\" >laursen</td>\n",
              "                        <td id=\"T_f62746b6_58e4_11ec_890f_0242ac1c0002row4_col1\" class=\"data row4 col1\" >-2.579528</td>\n",
              "            </tr>\n",
              "            <tr>\n",
              "                        <th id=\"T_f62746b6_58e4_11ec_890f_0242ac1c0002level0_row5\" class=\"row_heading level0 row5\" >5</th>\n",
              "                        <td id=\"T_f62746b6_58e4_11ec_890f_0242ac1c0002row5_col0\" class=\"data row5 col0\" >like</td>\n",
              "                        <td id=\"T_f62746b6_58e4_11ec_890f_0242ac1c0002row5_col1\" class=\"data row5 col1\" >-3.553572</td>\n",
              "            </tr>\n",
              "            <tr>\n",
              "                        <th id=\"T_f62746b6_58e4_11ec_890f_0242ac1c0002level0_row6\" class=\"row_heading level0 row6\" >6</th>\n",
              "                        <td id=\"T_f62746b6_58e4_11ec_890f_0242ac1c0002row6_col0\" class=\"data row6 col0\" >stole</td>\n",
              "                        <td id=\"T_f62746b6_58e4_11ec_890f_0242ac1c0002row6_col1\" class=\"data row6 col1\" >-2.829299</td>\n",
              "            </tr>\n",
              "            <tr>\n",
              "                        <th id=\"T_f62746b6_58e4_11ec_890f_0242ac1c0002level0_row7\" class=\"row_heading level0 row7\" >7</th>\n",
              "                        <td id=\"T_f62746b6_58e4_11ec_890f_0242ac1c0002row7_col0\" class=\"data row7 col0\" >personal</td>\n",
              "                        <td id=\"T_f62746b6_58e4_11ec_890f_0242ac1c0002row7_col1\" class=\"data row7 col1\" >-2.455258</td>\n",
              "            </tr>\n",
              "            <tr>\n",
              "                        <th id=\"T_f62746b6_58e4_11ec_890f_0242ac1c0002level0_row8\" class=\"row_heading level0 row8\" >8</th>\n",
              "                        <td id=\"T_f62746b6_58e4_11ec_890f_0242ac1c0002row8_col0\" class=\"data row8 col0\" >information</td>\n",
              "                        <td id=\"T_f62746b6_58e4_11ec_890f_0242ac1c0002row8_col1\" class=\"data row8 col1\" >-2.837111</td>\n",
              "            </tr>\n",
              "            <tr>\n",
              "                        <th id=\"T_f62746b6_58e4_11ec_890f_0242ac1c0002level0_row9\" class=\"row_heading level0 row9\" >9</th>\n",
              "                        <td id=\"T_f62746b6_58e4_11ec_890f_0242ac1c0002row9_col0\" class=\"data row9 col0\" >going</td>\n",
              "                        <td id=\"T_f62746b6_58e4_11ec_890f_0242ac1c0002row9_col1\" class=\"data row9 col1\" >-2.845625</td>\n",
              "            </tr>\n",
              "            <tr>\n",
              "                        <th id=\"T_f62746b6_58e4_11ec_890f_0242ac1c0002level0_row10\" class=\"row_heading level0 row10\" >10</th>\n",
              "                        <td id=\"T_f62746b6_58e4_11ec_890f_0242ac1c0002row10_col0\" class=\"data row10 col0\" >.</td>\n",
              "                        <td id=\"T_f62746b6_58e4_11ec_890f_0242ac1c0002row10_col1\" class=\"data row10 col1\" >-3.079561</td>\n",
              "            </tr>\n",
              "    </tbody></table>"
            ]
          },
          "metadata": {}
        }
      ]
    },
    {
      "cell_type": "code",
      "source": [
        ""
      ],
      "metadata": {
        "id": "HeYovrLHFsk5"
      },
      "execution_count": null,
      "outputs": []
    }
  ]
}